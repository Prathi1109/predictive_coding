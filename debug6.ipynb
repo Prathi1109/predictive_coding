{
 "cells": [
  {
   "cell_type": "code",
   "execution_count": 1,
   "metadata": {},
   "outputs": [],
   "source": [
    "import numpy as np\n",
    "import matplotlib.pyplot as plt\n",
    "%matplotlib inline"
   ]
  },
  {
   "cell_type": "code",
   "execution_count": 2,
   "metadata": {},
   "outputs": [],
   "source": [
    "from dataset import Dataset\n",
    "dataset = Dataset()"
   ]
  },
  {
   "cell_type": "code",
   "execution_count": 3,
   "metadata": {},
   "outputs": [
    {
     "data": {
      "image/png": "[encoded data removed]",
      "text/plain": [
       "<Figure size 432x288 with 2 Axes>"
      ]
     },
     "metadata": {},
     "output_type": "display_data"
    }
   ],
   "source": [
    "plt.figure()\n",
    "plt.imshow(dataset.images[1], cmap='gray')\n",
    "plt.colorbar()\n",
    "plt.show()"
   ]
  },
  {
   "cell_type": "code",
   "execution_count": 9,
   "metadata": {},
   "outputs": [
    {
     "data": {
      "image/png": "[encoded data removed]",
      "text/plain": [
       "<Figure size 432x288 with 2 Axes>"
      ]
     },
     "metadata": {},
     "output_type": "display_data"
    }
   ],
   "source": [
    "plt.figure()\n",
    "plt.imshow(dataset.filtered_images[4], cmap='gray')\n",
    "plt.colorbar()\n",
    "plt.show()"
   ]
  },
  {
   "cell_type": "code",
   "execution_count": 11,
   "metadata": {},
   "outputs": [
    {
     "name": "stdout",
     "output_type": "stream",
     "text": [
      "3.300883\n",
      "2.6183567\n",
      "2.7888649\n",
      "3.3933342\n",
      "2.3512247\n"
     ]
    }
   ],
   "source": [
    "for i in range(5):\n",
    "    print(np.std(dataset.filtered_images[i]))"
   ]
  },
  {
   "cell_type": "code",
   "execution_count": 12,
   "metadata": {},
   "outputs": [
    {
     "data": {
      "text/plain": [
       "3040"
      ]
     },
     "execution_count": 12,
     "metadata": {},
     "output_type": "execute_result"
    }
   ],
   "source": [
    "len(dataset.patches)"
   ]
  },
  {
   "cell_type": "code",
   "execution_count": 9,
   "metadata": {},
   "outputs": [
    {
     "name": "stdout",
     "output_type": "stream",
     "text": [
      "0.9852216748768474\n",
      "0.9706617486471404\n",
      "0.9563169937410251\n",
      "0.9421842302867243\n",
      "0.9282603254056397\n",
      "0.9145421925178717\n",
      "0.9010267906580017\n",
      "0.887711123800987\n",
      "0.8745922401980168\n",
      "0.8616672317221842\n",
      "0.8489332332238269\n",
      "0.8363874218953959\n",
      "0.8240270166457103\n",
      "0.8118492774834585\n",
      "0.7998515049098114\n",
      "0.7880310393200113\n",
      "0.7763852604138043\n",
      "0.7649115866145856\n",
      "0.7536074744971287\n",
      "0.7424704182237722\n",
      "0.7314979489889383\n",
      "0.7206876344718605\n",
      "0.7100370782973995\n",
      "0.6995439195048272\n",
      "0.6892058320244604\n",
      "0.67902052416203\n",
      "0.66898573809067\n",
      "0.6590992493504139\n",
      "0.6493588663550877\n",
      "0.6397624299064903\n",
      "0.6303078127157541\n",
      "0.6209929189317774\n",
      "0.6118156836766281\n",
      "0.602774072587811\n",
      "0.5938660813673016\n",
      "0.585089735337243\n",
      "0.5764430890022099\n",
      "0.5679242256179408\n",
      "0.5595312567664441\n",
      "0.5512623219373834\n",
      "0.5431155881156488\n",
      "0.5350892493750234\n",
      "0.5271815264778557\n",
      "0.519390666480646\n",
      "0.5117149423454641\n",
      "0.5041526525571075\n",
      "0.4967021207459188\n",
      "0.4893616953161762\n",
      "0.4821297490799766\n",
      "0.4750046788965287\n",
      "0.4679849053167771\n",
      "0.46106887223327797\n",
      "0.4542550465352493\n",
      "0.44754191776871854\n",
      "0.4409279978016932\n",
      "0.434411820494279\n",
      "0.42799194137367397\n",
      "0.42166693731396454\n",
      "0.4154354062206548\n"
     ]
    }
   ],
   "source": [
    "k2 = 1.0\n",
    "\n",
    "for i in range(2375//40):\n",
    "    k2 = k2 / 1.015\n",
    "    print(k2)"
   ]
  },
  {
   "cell_type": "code",
   "execution_count": null,
   "metadata": {},
   "outputs": [],
   "source": []
  }
 ],
 "metadata": {
  "kernelspec": {
   "display_name": "Python 3",
   "language": "python",
   "name": "python3"
  },
  "language_info": {
   "codemirror_mode": {
    "name": "ipython",
    "version": 3
   },
   "file_extension": ".py",
   "mimetype": "text/x-python",
   "name": "python",
   "nbconvert_exporter": "python",
   "pygments_lexer": "ipython3",
   "version": "3.6.5"
  }
 },
 "nbformat": 4,
 "nbformat_minor": 2
}

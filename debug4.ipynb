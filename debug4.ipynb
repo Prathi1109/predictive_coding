{
 "cells": [
  {
   "cell_type": "markdown",
   "metadata": {},
   "source": [
    "## Predictive Codingを簡単な変数で確認"
   ]
  },
  {
   "cell_type": "code",
   "execution_count": 14,
   "metadata": {},
   "outputs": [
    {
     "name": "stdout",
     "output_type": "stream",
     "text": [
      "dr=0.15000000000000002 r=0.15000000000000002\n",
      "dr=0.0825 r=0.23250000000000004\n",
      "dr=0.04537499999999999 r=0.27787500000000004\n",
      "dr=0.024956249999999996 r=0.30283125000000005\n",
      "dr=0.013725937499999986 r=0.31655718750000006\n",
      "dr=0.007549265624999975 r=0.324106453125\n",
      "dr=0.00415209609374998 r=0.32825854921875003\n",
      "dr=0.002283652851562479 r=0.3305422020703125\n",
      "dr=0.0012560090683593817 r=0.33179821113867186\n",
      "dr=0.0006908049875976708 r=0.3324890161262695\n"
     ]
    }
   ],
   "source": [
    "U = 3\n",
    "r = 0\n",
    "I = 1\n",
    "\n",
    "#k1 = 0.5\n",
    "k1 = 0.05\n",
    "sigma_sq = 1.0\n",
    "\n",
    "for i in range(10):\n",
    "    error = I - U * r\n",
    "    #dr = (k1 / sigma_sq) / U * error\n",
    "    dr = (k1 / sigma_sq) * U * error\n",
    "    r += dr\n",
    "    print(\"dr={} r={}\".format(dr, r))\n"
   ]
  },
  {
   "cell_type": "markdown",
   "metadata": {},
   "source": [
    "$$\n",
    "I = \\frac{1}{\\sqrt{2\\pi \\sigma^2}} e^{-\\frac{(I-Ur)^2}{2 \\sigma^2}} \\\\\n",
    "\\log I = -\\frac{1}{2} \\log(2\\pi \\sigma^2) - \\frac{(I-Ur)^2}{2 \\sigma^2} \\\\\n",
    "\\frac{d \\log I}{dr} = U \\frac{I - Ur}{\\sigma^2}\n",
    "$$"
   ]
  },
  {
   "cell_type": "markdown",
   "metadata": {},
   "source": [
    "$$\n",
    "y = M x \\\\\n",
    "x = M^{-1} y\n",
    "$$"
   ]
  },
  {
   "cell_type": "code",
   "execution_count": null,
   "metadata": {},
   "outputs": [],
   "source": []
  }
 ],
 "metadata": {
  "kernelspec": {
   "display_name": "Python 3",
   "language": "python",
   "name": "python3"
  },
  "language_info": {
   "codemirror_mode": {
    "name": "ipython",
    "version": 3
   },
   "file_extension": ".py",
   "mimetype": "text/x-python",
   "name": "python",
   "nbconvert_exporter": "python",
   "pygments_lexer": "ipython3",
   "version": "3.6.5"
  }
 },
 "nbformat": 4,
 "nbformat_minor": 2
}

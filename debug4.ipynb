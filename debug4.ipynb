{
 "cells": [
  {
   "cell_type": "markdown",
   "metadata": {},
   "source": [
    "## Predictive Codingを簡単な変数で確認"
   ]
  },
  {
   "cell_type": "code",
   "execution_count": 6,
   "metadata": {},
   "outputs": [],
   "source": [
    "import numpy as np\n",
    "import matplotlib.pyplot as plt\n",
    "%matplotlib inline"
   ]
  },
  {
   "cell_type": "code",
   "execution_count": 136,
   "metadata": {},
   "outputs": [
    {
     "name": "stdout",
     "output_type": "stream",
     "text": [
      "dr=0.15000000000000002 r=0.15000000000000002\n",
      "dr=0.0825 r=0.23250000000000004\n",
      "dr=0.04537499999999999 r=0.27787500000000004\n",
      "dr=0.024956249999999996 r=0.30283125000000005\n",
      "dr=0.013725937499999986 r=0.31655718750000006\n",
      "dr=0.007549265624999975 r=0.324106453125\n",
      "dr=0.00415209609374998 r=0.32825854921875003\n",
      "dr=0.002283652851562479 r=0.3305422020703125\n",
      "dr=0.0012560090683593817 r=0.33179821113867186\n",
      "dr=0.0006908049875976708 r=0.3324890161262695\n"
     ]
    }
   ],
   "source": [
    "U = 3\n",
    "r = 0\n",
    "I = 1\n",
    "\n",
    "#k1 = 0.5\n",
    "k1 = 0.05\n",
    "sigma_sq = 1.0\n",
    "\n",
    "for i in range(10):\n",
    "    error = I - U * r\n",
    "    #dr = (k1 / sigma_sq) / U * error\n",
    "    dr = (k1 / sigma_sq) * U * error\n",
    "    r += dr\n",
    "    print(\"dr={} r={}\".format(dr, r))"
   ]
  },
  {
   "cell_type": "markdown",
   "metadata": {},
   "source": [
    "$$\n",
    "I = \\frac{1}{\\sqrt{2\\pi \\sigma^2}} e^{-\\frac{(I-Ur)^2}{2 \\sigma^2}} \\\\\n",
    "\\log I = -\\frac{1}{2} \\log(2\\pi \\sigma^2) - \\frac{(I-Ur)^2}{2 \\sigma^2} \\\\\n",
    "\\frac{d \\log I}{dr} = U \\frac{I - Ur}{\\sigma^2}\n",
    "$$"
   ]
  },
  {
   "cell_type": "markdown",
   "metadata": {},
   "source": [
    "$$\n",
    "y = M x \\\\\n",
    "x = M^{-1} y\n",
    "$$"
   ]
  },
  {
   "cell_type": "markdown",
   "metadata": {},
   "source": [
    "### rに関して\n",
    "\n",
    "- dr0 =  0.018 bottom-up での U.T * error\n",
    "- dr1 = -0.001 top-down での error_td\n",
    "- dr2 = -0.017 事前分布での\n",
    "\n",
    "この3つを合計するとdr=0となり平衡状態になる.\n",
    "\n",
    "Iの部分でのerrorがあることで、事前分布による項をキャンセルする形になっている.\n",
    "\n",
    "- Ur = 0.85\n",
    "- U = 2.5\n",
    "- r = 0.34\n",
    "\n",
    "Iの部分のerrorは0.15\n",
    "\n",
    "### rhに関して\n",
    "\n",
    "- drh0 = -0.008\n",
    "- drh1 =  0.008\n",
    "\n",
    "\n",
    "- error_td = -0.3\n",
    "- Uh       = -0.27\n",
    "\n",
    "Uhが小さいことにより、rhの事前分布の項をキャンセルする為に、ある程度の大きさがあるerror_tdを求めてしまう."
   ]
  },
  {
   "cell_type": "code",
   "execution_count": 146,
   "metadata": {},
   "outputs": [
    {
     "name": "stdout",
     "output_type": "stream",
     "text": [
      "Ur=0.9908361634207513\n",
      "U=[0.72502673]\n",
      "r=[1.3666202]\n",
      "Uh=[-0.63016852]\n",
      "Uh_rh=1.3121486384484924\n",
      "rh=[-2.0822186]\n",
      "error=0.009164576981936401\n",
      "error_td=[-0.05447841]\n",
      "dU=[-3.12078557e-05]\n",
      "dr=[5.98504314e-05]\n",
      "dr0=[0.00033223]\n",
      "dr1=[-0.00027239]\n",
      "dr2=[-0.06833101]\n",
      "drh0=-0.00017165288465167066\n",
      "drh1=[0.00520555]\n"
     ]
    },
    {
     "data": {
      "image/png": "[encoded data removed]",
      "text/plain": [
       "<Figure size 432x288 with 1 Axes>"
      ]
     },
     "metadata": {},
     "output_type": "display_data"
    }
   ],
   "source": [
    "iteration = 5000\n",
    "k2_decay_interval = 40\n",
    "\n",
    "#k1 = 0.5\n",
    "#k2 = 1.0\n",
    "\n",
    "k1 = 0.05\n",
    "k2 = 0.1\n",
    "\n",
    "sigma_sq    = 1.0  # Iの生成観測分布の分散\n",
    "sigma_sq_td = 10.0 # rの生成観測分布の分散\n",
    "alpha1      = 1.0  # rの事前分布の精度パラメータ  (分散=1.0, 標準偏差1.0)\n",
    "alpha2      = 0.05 # rhの事前分布の精度パラメータ (分散=20.0, 標準偏差4.5)\n",
    "lambd       = 0.02 # Uの事前分布の精度パラメータ　(分散=50.0, 標準偏差7.1)\n",
    "\n",
    "U   = np.array([3.0])\n",
    "Uh  = np.array([-2.0])\n",
    "r   = np.zeros([1], dtype=np.float32)\n",
    "rh  = np.zeros([1], dtype=np.float32)\n",
    "\n",
    "error_td = np.zeros([1], dtype=np.float32)\n",
    "\n",
    "I = 1\n",
    "\n",
    "train_U    = True\n",
    "use_level2 = True\n",
    "use_prior  = False\n",
    "\n",
    "rs = []\n",
    "r_tds = []\n",
    "\n",
    "for i in range(iteration):\n",
    "    r_td = Uh.dot(rh)\n",
    "    Ur   = U.dot(r)\n",
    "    \n",
    "    rs.append(r.copy())\n",
    "    r_tds.append(r_td)\n",
    "    \n",
    "    error    = I - Ur\n",
    "    error_td = r_td - r\n",
    "    \n",
    "    if use_level2:\n",
    "        dr = (k1/sigma_sq) * U.T.dot(error) + (k1/sigma_sq_td) * error_td\n",
    "    else:\n",
    "        dr = (k1/sigma_sq) * U.T.dot(error)\n",
    "    if use_prior:\n",
    "        dr -= (k1 * alpha1 * r)\n",
    "    \n",
    "    dU = (k2 / sigma_sq) * error * r - k2 * lambd * U\n",
    "    r += dr\n",
    "    \n",
    "    if train_U:\n",
    "        U += dU\n",
    "\n",
    "    if use_level2:\n",
    "        drh = (k1 / sigma_sq_td) * Uh.T.dot(-error_td)\n",
    "        if use_prior:\n",
    "            drh -= k1 * alpha2 * rh\n",
    "        dUh = (k2 / sigma_sq_td) * (-error_td) * rh    - k2 * lambd * Uh        \n",
    "\n",
    "        rh += drh\n",
    "        Uh += dUh\n",
    "        \n",
    "    if i % k2_decay_interval == k2_decay_interval-1:\n",
    "        k2 = k2 / 1.015\n",
    "    \n",
    "    \n",
    "print(\"Ur={}\".format(U.dot(r)))\n",
    "print(\"U={}\".format(U))\n",
    "print(\"r={}\".format(r))\n",
    "print(\"Uh={}\".format(Uh))\n",
    "print(\"Uh_rh={}\".format(Uh.dot(rh)))\n",
    "print(\"rh={}\".format(rh))\n",
    "print(\"error={}\".format(error))\n",
    "print(\"error_td={}\".format(error_td))\n",
    "print(\"dU={}\".format(dU))\n",
    "\n",
    "print(\"dr={}\".format(dr))\n",
    "print(\"dr0={}\".format((k1/sigma_sq) * U.T.dot(error)))\n",
    "print(\"dr1={}\".format((k1/sigma_sq_td) * error_td))\n",
    "print(\"dr2={}\".format(-(k1 * alpha1 * r)))\n",
    "\n",
    "print(\"drh0={}\".format((k1 / sigma_sq_td) * Uh.T.dot(-error_td)))\n",
    "print(\"drh1={}\".format(- k1 * alpha2 * rh))\n",
    "\n",
    "\n",
    "plt.plot(rs, label=\"r\")\n",
    "plt.plot(r_tds, label=\"r_td\")\n",
    "plt.legend()\n",
    "plt.show()"
   ]
  },
  {
   "cell_type": "code",
   "execution_count": 78,
   "metadata": {},
   "outputs": [
    {
     "data": {
      "text/plain": [
       "0.264"
      ]
     },
     "execution_count": 78,
     "metadata": {},
     "output_type": "execute_result"
    }
   ],
   "source": [
    "0.33 * (4/5)"
   ]
  },
  {
   "cell_type": "code",
   "execution_count": 112,
   "metadata": {},
   "outputs": [
    {
     "data": {
      "text/plain": [
       "0.015550512935224338"
      ]
     },
     "execution_count": 112,
     "metadata": {},
     "output_type": "execute_result"
    }
   ],
   "source": [
    "k2"
   ]
  },
  {
   "cell_type": "code",
   "execution_count": 128,
   "metadata": {},
   "outputs": [
    {
     "name": "stdout",
     "output_type": "stream",
     "text": [
      "Ur=0.8521390988307361\n",
      "U=[2.50996073]\n",
      "r=[0.33950296]\n",
      "Uh=[-0.19185406]\n",
      "rh=[-0.12133904]\n",
      "Uh_rh=0.023279386490486147\n",
      "error=0.14786090118132555\n",
      "dU=[3.55277952e-11]\n",
      "dr=[-1.26001957e-08]\n",
      "dr0=[0.01855625]\n",
      "dr1=[-0.00158112]\n",
      "dr2=[-0.01697515]\n"
     ]
    },
    {
     "data": {
      "image/png": "[encoded data removed]",
      "text/plain": [
       "<Figure size 432x288 with 1 Axes>"
      ]
     },
     "metadata": {},
     "output_type": "display_data"
    }
   ],
   "source": [
    "iteration = 5000\n",
    "local_iteration = 10\n",
    "\n",
    "k1 = 0.05\n",
    "k2 = 0.1\n",
    "\n",
    "#k1 = 0.5\n",
    "#k2 = 1.0\n",
    "\n",
    "sigma_sq    = 1.0  # Iの生成観測分布の分散\n",
    "sigma_sq_td = 10.0 # rの生成観測分布の分散\n",
    "alpha1      = 1.0  # rの事前分布の精度パラメータ  (分散=1.0, 標準偏差1.0)\n",
    "alpha2      = 0.05 # rhの事前分布の精度パラメータ (分散=20.0, 標準偏差4.5)\n",
    "lambd       = 0.02 # Uの事前分布の精度パラメータ　(分散=50.0, 標準偏差7.1)\n",
    "\n",
    "U   = np.array([3.0])\n",
    "Uh  = np.array([-2.0])\n",
    "\n",
    "r   = np.zeros([1], dtype=np.float32)\n",
    "rh  = np.zeros([1], dtype=np.float32)\n",
    "                \n",
    "error_td = np.zeros([1], dtype=np.float32)\n",
    "\n",
    "I = 1\n",
    "\n",
    "rs = []\n",
    "r_tds = []\n",
    "\n",
    "k2_decay_interval = 40\n",
    "    \n",
    "for i in range(iteration):    \n",
    "    for j in range(local_iteration):\n",
    "        r_td = Uh.dot(rh)\n",
    "        Ur = U.dot(r)\n",
    "    \n",
    "        error    = I - Ur\n",
    "        error_td = r_td - r\n",
    "    \n",
    "        dr = (k1 / sigma_sq) * U.T.dot(error) + (k1/sigma_sq_td) * error_td\n",
    "        dr -= (k1 * alpha1 * r)    \n",
    "        r += dr\n",
    "        \n",
    "        drh = (k1 / sigma_sq_td) * Uh.T.dot(-error_td) - k1 * alpha2 * rh\n",
    "        rh += drh\n",
    "            \n",
    "    rs.append(r.copy())\n",
    "    r_tds.append(r_td)\n",
    "        \n",
    "    for j in range(local_iteration):\n",
    "        r_td = Uh.dot(rh)\n",
    "        Ur = U.dot(r)\n",
    "    \n",
    "        error    = I - Ur\n",
    "        error_td = r_td - r        \n",
    "        \n",
    "        dU = (k2 / sigma_sq) * error * r - k2 * lambd * U\n",
    "        U += dU\n",
    "\n",
    "        dUh = (k2 / sigma_sq_td) * (-error_td) * rh - k2 * lambd * Uh        \n",
    "        Uh += dUh\n",
    "        \n",
    "    if i % k2_decay_interval == k2_decay_interval-1:\n",
    "        k2 = k2 / 1.015\n",
    "    \n",
    "\n",
    "print(\"Ur={}\".format(U.dot(r)))\n",
    "print(\"U={}\".format(U))\n",
    "print(\"r={}\".format(r))\n",
    "print(\"Uh={}\".format(Uh))\n",
    "print(\"rh={}\".format(rh))\n",
    "print(\"Uh_rh={}\".format(Uh.dot(rh)))\n",
    "print(\"error={}\".format(error))\n",
    "print(\"dU={}\".format(dU))\n",
    "print(\"dr={}\".format(dr))\n",
    "print(\"dr0={}\".format((k1/sigma_sq) * U.T.dot(error)))\n",
    "print(\"dr1={}\".format((k1/sigma_sq_td) * error_td))\n",
    "print(\"dr2={}\".format(-(k1 * alpha1 * r)))\n",
    "\n",
    "plt.plot(rs, label=\"r\")\n",
    "plt.plot(r_tds, label=\"r_td\")\n",
    "plt.legend()\n",
    "plt.show()"
   ]
  },
  {
   "cell_type": "code",
   "execution_count": null,
   "metadata": {},
   "outputs": [],
   "source": []
  }
 ],
 "metadata": {
  "kernelspec": {
   "display_name": "Python 3",
   "language": "python",
   "name": "python3"
  },
  "language_info": {
   "codemirror_mode": {
    "name": "ipython",
    "version": 3
   },
   "file_extension": ".py",
   "mimetype": "text/x-python",
   "name": "python",
   "nbconvert_exporter": "python",
   "pygments_lexer": "ipython3",
   "version": "3.6.5"
  }
 },
 "nbformat": 4,
 "nbformat_minor": 2
}

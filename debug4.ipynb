{
 "cells": [
  {
   "cell_type": "code",
   "execution_count": 9,
   "metadata": {},
   "outputs": [
    {
     "name": "stdout",
     "output_type": "stream",
     "text": [
      "dr=0.6666666666666666 r=2.6666666666666665\n",
      "dr=0.3333333333333333 r=3.0\n",
      "dr=0.16666666666666666 r=3.1666666666666665\n",
      "dr=0.08333333333333333 r=3.25\n",
      "dr=0.041666666666666664 r=3.2916666666666665\n",
      "dr=0.020833333333333332 r=3.3125\n",
      "dr=0.010416666666666666 r=3.3229166666666665\n",
      "dr=0.005208333333333333 r=3.328125\n",
      "dr=0.0026041666666666665 r=3.3307291666666665\n",
      "dr=0.0013020833333333333 r=3.33203125\n"
     ]
    }
   ],
   "source": [
    "U = 3\n",
    "r = 2\n",
    "I = 10\n",
    "\n",
    "k1 = 1\n",
    "sigma_sq = 2\n",
    "\n",
    "for i in range(10):\n",
    "    error = I - U * r\n",
    "    dr = (k1 / sigma_sq) / U * error\n",
    "    r += dr\n",
    "    print(\"dr={} r={}\".format(dr, r))\n"
   ]
  },
  {
   "cell_type": "code",
   "execution_count": 3,
   "metadata": {},
   "outputs": [
    {
     "data": {
      "text/plain": [
       "1.3333333333333333"
      ]
     },
     "execution_count": 3,
     "metadata": {},
     "output_type": "execute_result"
    }
   ],
   "source": [
    "dr"
   ]
  },
  {
   "cell_type": "code",
   "execution_count": null,
   "metadata": {},
   "outputs": [],
   "source": []
  }
 ],
 "metadata": {
  "kernelspec": {
   "display_name": "Python 3",
   "language": "python",
   "name": "python3"
  },
  "language_info": {
   "codemirror_mode": {
    "name": "ipython",
    "version": 3
   },
   "file_extension": ".py",
   "mimetype": "text/x-python",
   "name": "python",
   "nbconvert_exporter": "python",
   "pygments_lexer": "ipython3",
   "version": "3.6.5"
  }
 },
 "nbformat": 4,
 "nbformat_minor": 2
}
